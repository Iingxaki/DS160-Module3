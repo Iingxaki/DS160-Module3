{
 "cells": [
  {
   "cell_type": "markdown",
   "id": "3a6cbf93",
   "metadata": {},
   "source": [
    "# Housing Analysis using Numpy"
   ]
  },
  {
   "cell_type": "code",
   "execution_count": 6,
   "id": "3ae611e4",
   "metadata": {},
   "outputs": [],
   "source": [
    "# Loading the package \n",
    "import numpy as np "
   ]
  },
  {
   "cell_type": "markdown",
   "id": "294a15ba",
   "metadata": {},
   "source": [
    "### Loading the housing dataset from CSV file"
   ]
  },
  {
   "cell_type": "code",
   "execution_count": 8,
   "id": "570798a8",
   "metadata": {},
   "outputs": [],
   "source": [
    "data=np.genfromtxt('Housing_new.csv',delimiter=',',skip_header=True)"
   ]
  },
  {
   "cell_type": "code",
   "execution_count": 9,
   "id": "a98b38f3",
   "metadata": {},
   "outputs": [
    {
     "data": {
      "text/plain": [
       "numpy.ndarray"
      ]
     },
     "execution_count": 9,
     "metadata": {},
     "output_type": "execute_result"
    }
   ],
   "source": [
    "type(data)"
   ]
  },
  {
   "cell_type": "markdown",
   "id": "0055237a",
   "metadata": {},
   "source": [
    "### Extracting relevant columns (e.g. price, area,...)"
   ]
  },
  {
   "cell_type": "code",
   "execution_count": 12,
   "id": "31fd22ad",
   "metadata": {},
   "outputs": [],
   "source": [
    "price=data[:,0]\n",
    "#print(price[:10])\n",
    "area=data[:,1]\n",
    "bedrooms=data[:,2]\n",
    "bathrooms=data[:,3]\n",
    "parking=data[:,-1]"
   ]
  },
  {
   "cell_type": "markdown",
   "id": "2a286b43",
   "metadata": {},
   "source": [
    "### Basic descriptive statistics\n",
    "* Mean, Median, SD, Min, Max"
   ]
  },
  {
   "cell_type": "code",
   "execution_count": 16,
   "id": "d9bb78c6",
   "metadata": {},
   "outputs": [
    {
     "name": "stdout",
     "output_type": "stream",
     "text": [
      "...Price Summary...\n",
      "Mean: 4766729.247706422\n",
      "Median: 4340000.0\n",
      "Standard deviation: 1868722.8281312082\n",
      "Min: 1750000.0\n",
      "Max: 13300000.0\n"
     ]
    }
   ],
   "source": [
    "#Price\n",
    "print('...Price Summary...')\n",
    "print(f'Mean: {round(np.mean(price))}')\n",
    "print(f'Median: {np.median(price)}')\n",
    "print(f'Standard deviation: {round(np.std(price))}')\n",
    "print(f'Min: {np.min(price)}')\n",
    "print(f'Max: {np.max(price)}')"
   ]
  },
  {
   "cell_type": "code",
   "execution_count": 18,
   "id": "4fa38e57",
   "metadata": {},
   "outputs": [
    {
     "name": "stdout",
     "output_type": "stream",
     "text": [
      "...Area Summary...\n",
      "Mean: 5151\n",
      "Median: 4600.0\n",
      "Standard deviation: 2168\n",
      "Min: 1650.0\n",
      "Max: 16200.0\n"
     ]
    }
   ],
   "source": [
    "#Area\n",
    "print('...Area Summary...')\n",
    "print(f'Mean: {round(np.mean(area))}')\n",
    "print(f'Median: {np.median(area)}')\n",
    "print(f'Standard deviation: {round(np.std(area))}')\n",
    "print(f'Min: {np.min(area)}')\n",
    "print(f'Max: {np.max(area)}')"
   ]
  },
  {
   "cell_type": "markdown",
   "id": "74455c6b",
   "metadata": {},
   "source": [
    "### Data filtering"
   ]
  },
  {
   "cell_type": "code",
   "execution_count": 19,
   "id": "a78f1da8",
   "metadata": {},
   "outputs": [
    {
     "name": "stdout",
     "output_type": "stream",
     "text": [
      "Number of houses before filtering: 545\n"
     ]
    }
   ],
   "source": [
    "print(f\"Number of houses before filtering: {len(data)}\")\n"
   ]
  },
  {
   "cell_type": "code",
   "execution_count": 20,
   "id": "97dd7fd8",
   "metadata": {},
   "outputs": [],
   "source": [
    "#Select the houses with more than 3 bedrooms and more than 2 bathrooms\n",
    "filtered_data= data[(bedrooms>3) & (bathrooms>2)]"
   ]
  },
  {
   "cell_type": "code",
   "execution_count": 25,
   "id": "700ce475",
   "metadata": {},
   "outputs": [
    {
     "name": "stdout",
     "output_type": "stream",
     "text": [
      "Number of houses after filtering: 7\n"
     ]
    }
   ],
   "source": [
    "print(f\"Number of houses after filtering: {len(filtered_data)}\")"
   ]
  },
  {
   "cell_type": "code",
   "execution_count": 28,
   "id": "c52e7bc2",
   "metadata": {},
   "outputs": [],
   "source": [
    "# Select the houses where the area more than 8000 square feet and at least 3 bedrooms and at least 2 parking spaces.\n",
    "data_filter= data[(bedrooms>=3) & (area>8000) & (parking>=2)]"
   ]
  },
  {
   "cell_type": "code",
   "execution_count": 29,
   "id": "ed86d2c3",
   "metadata": {},
   "outputs": [
    {
     "name": "stdout",
     "output_type": "stream",
     "text": [
      "Number of houses after filtering: 25\n"
     ]
    }
   ],
   "source": [
    "print(f\"Number of houses after filtering: {len(data_filter)}\")"
   ]
  },
  {
   "cell_type": "markdown",
   "id": "7c536420",
   "metadata": {},
   "source": [
    "### Number of unique categories"
   ]
  },
  {
   "cell_type": "code",
   "execution_count": 31,
   "id": "ff2a6ed4",
   "metadata": {},
   "outputs": [
    {
     "name": "stdout",
     "output_type": "stream",
     "text": [
      "Unique bedroom counts: [1. 2. 3. 4. 5. 6.]\n",
      "Unique bathroom counts: [1. 2. 3. 4.]\n"
     ]
    }
   ],
   "source": [
    "print(f\"Unique bedroom counts: {np.unique(bedrooms)}\")\n",
    "print(f\"Unique bathroom counts: {np.unique(bathrooms)}\")"
   ]
  },
  {
   "cell_type": "markdown",
   "id": "bd89002e",
   "metadata": {},
   "source": [
    "### Correlation "
   ]
  },
  {
   "cell_type": "code",
   "execution_count": 33,
   "id": "2de7f523",
   "metadata": {},
   "outputs": [
    {
     "name": "stdout",
     "output_type": "stream",
     "text": [
      "Correlation matrix: \n",
      "[[1.         0.53599735 0.36649403 0.51754534 0.38439365]\n",
      " [0.53599735 1.         0.15185849 0.19381953 0.35298048]\n",
      " [0.36649403 0.15185849 1.         0.37393024 0.1392699 ]\n",
      " [0.51754534 0.19381953 0.37393024 1.         0.17749582]\n",
      " [0.38439365 0.35298048 0.1392699  0.17749582 1.        ]]\n"
     ]
    }
   ],
   "source": [
    "#Default rowvar= True (calculate the correlation for each rows)\n",
    "# rowvar= False (each column represent a variable)\n",
    "corr_house= np.corrcoef(data,rowvar=False)\n",
    "print(\"Correlation matrix: \")\n",
    "print(corr_house)"
   ]
  },
  {
   "cell_type": "markdown",
   "id": "4bc67d5a",
   "metadata": {},
   "source": [
    "#### Correlation \n",
    "- Price and area: 53% (strong)\n",
    "- Price and bedrooms: 37% (weak)\n",
    "- Price and bathrooms: 52% (strong)\n",
    "- Price and parking: 38% (weak)"
   ]
  }
 ],
 "metadata": {
  "kernelspec": {
   "display_name": "Python 3 (ipykernel)",
   "language": "python",
   "name": "python3"
  },
  "language_info": {
   "codemirror_mode": {
    "name": "ipython",
    "version": 3
   },
   "file_extension": ".py",
   "mimetype": "text/x-python",
   "name": "python",
   "nbconvert_exporter": "python",
   "pygments_lexer": "ipython3",
   "version": "3.10.12"
  }
 },
 "nbformat": 4,
 "nbformat_minor": 5
}
